{
 "cells": [
  {
   "cell_type": "code",
   "execution_count": 3,
   "metadata": {},
   "outputs": [
    {
     "name": "stdout",
     "output_type": "stream",
     "text": [
      "pygame 1.9.6\n",
      "Hello from the pygame community. https://www.pygame.org/contribute.html\n"
     ]
    }
   ],
   "source": [
    "from pygame.locals import *\n",
    "import pygame\n",
    "import random\n",
    "import time\n",
    "import itertools\n",
    "from PIL import Image, ImageDraw"
   ]
  },
  {
   "cell_type": "code",
   "execution_count": 4,
   "metadata": {},
   "outputs": [],
   "source": [
    "class Player:\n",
    "    __id__ = 0\n",
    "    __step__ = 8\n",
    "    __spread__ = 8\n",
    "    \n",
    "    x = 0\n",
    "    y = 0\n",
    "    covid = 'N'\n",
    "    covid_age = 0\n",
    " \n",
    "    updateCountMax = 2\n",
    "    updateCount = 0\n",
    "\n",
    "    def __init__(self, id):\n",
    "        random.seed()\n",
    "        self.__id__ = id\n",
    "        self.__step__ = random.randint(1, __STEP__) if random.randint(0, 100) > __STAY_HOME__ else 0\n",
    "        self.__spread__ = random.randint(0, __STEP__) \n",
    "        self.x = random.randint(0, __fieldWidth__)\n",
    "        self.y = __headerHeight__ + random.randint(0, __fieldHeight__)\n",
    "\n",
    "    def update(self):\n",
    "        random.seed()\n",
    "        rnd = random.getrandbits(4)\n",
    "        rnd_list.append(rnd)\n",
    "        if rnd & 1 != 0 and (self.x < (__fieldWidth__ - (self.__step__ * 2))):\n",
    "            self.x = self.x + self.__step__\n",
    "        if rnd & 2 != 0 and (self.x > self.__step__ * 2):\n",
    "            self.x = self.x - self.__step__\n",
    "        if rnd & 4 != 0 and (self.y > __headerHeight__ + self.__step__ * 2):\n",
    "            self.y = self.y - self.__step__\n",
    "        if rnd & 8 != 0 and (self.y < (__fieldHeight__ - (self.__step__ * 2))):\n",
    "            self.y = self.y + self.__step__\n",
    "        if self.covid_age > 0:\n",
    "            self.covid_age += 1\n",
    "        if self.covid_age > __LATENCE__ and random.randint(0,10) > 4:\n",
    "            self.covid = 'I'\n",
    "\n",
    "    def draw(self, surface, image):\n",
    "        surface.blit(image, (self.x,self.y)) "
   ]
  },
  {
   "cell_type": "code",
   "execution_count": 5,
   "metadata": {},
   "outputs": [],
   "source": [
    "class App:\n",
    "    players = []\n",
    "    __time__ = 0\n",
    "\n",
    "    def __init__(self, population = 10):\n",
    "        self.__time__ = 0\n",
    "        self._running = True\n",
    "        self._display_surf = None\n",
    "        self._image_surf = None\n",
    "        self._image_result = None\n",
    "        self._canvas_ = None\n",
    "        self.windowWidth = __fieldWidth__\n",
    "        self.windowHeight = __fieldHeight__\n",
    "        self.players = [Player(id) for id in range(population)] \n",
    "        for i in range(population, int(population * 1.01)):\n",
    "            p = Player(i)          \n",
    "            p.covid_age = 1\n",
    "            p.covid = 'Y'\n",
    "            p.__step__ = random.randint(1, __STEP__)\n",
    "            self.players.append(p)\n",
    "\n",
    "    def on_init(self):\n",
    "        pygame.init()\n",
    "        self._display_surf = pygame.display.set_mode((self.windowWidth,self.windowHeight), pygame.HWSURFACE)\n",
    "        \n",
    "        pygame.display.set_caption('Covid spread simulation')\n",
    "        self._running = True\n",
    "        self._image_map = pygame.image.load(\"map.png\").convert()\n",
    "        self._image_red = pygame.image.load(\"red.png\").convert()\n",
    "        self._image_green = pygame.image.load(\"green.png\").convert()\n",
    "        self._image_yellow = pygame.image.load(\"yellow.png\").convert()\n",
    "        self._image_result = pygame.Surface((__fieldWidth__, __headerHeight__), pygame.SRCALPHA)\n",
    "        time.sleep (5.0);\n",
    " \n",
    "    def on_event(self, event):\n",
    "        if event.type == QUIT:\n",
    "            self._running = False\n",
    "\n",
    "    def on_loop(self):\n",
    "        for p in self.players:\n",
    "            p.update()\n",
    "        pass\n",
    "    \n",
    "    def on_render(self):\n",
    "        self._display_surf.fill((255,255,255))\n",
    "        for p in self.players:\n",
    "            if p.covid_age == 0:\n",
    "                infects = [p for p in self.players if p.covid == 'Y']\n",
    "                for i in infects:\n",
    "                    distance = ((p.x - i.x)**2 + (p.y - i.y)**2)**0.5 \n",
    "                    if distance < i.__spread__:\n",
    "                        p.covid_age = 1\n",
    "                        p.covid = 'Y'\n",
    "            \n",
    "            if p.covid == 'I':\n",
    "                p.draw(self._display_surf, self._image_yellow)\n",
    "            elif p.covid == 'Y':\n",
    "                p.draw(self._display_surf, self._image_red)\n",
    "            else:\n",
    "                p.draw(self._display_surf, self._image_green)\n",
    "               \n",
    "        self._display_surf.blit(self._image_map, (0,0)) \n",
    "        if self.__time__ < __fieldWidth__:\n",
    "            healthy = len([p for p in self.players if p.covid == 'N']) / __population__\n",
    "            infected = len([p for p in self.players if p.covid == 'Y']) / __population__\n",
    "            immune = len([p for p in self.players if p.covid == 'I']) / __population__\n",
    "\n",
    "            pygame.draw.line(self._image_result, (0, 255, 0), (self.__time__, 0), (self.__time__, int(healthy * 100)), 1)\n",
    "            pygame.draw.line(self._image_result, (255, 255, 0), (self.__time__, int(healthy * 100)), (self.__time__, int((immune+healthy) * 100)), 1)\n",
    "            pygame.draw.line(self._image_result, (255, 0, 0), (self.__time__, int((immune+healthy) * 100)), (self.__time__, int((infected+healthy+immune) * 100)), 1)\n",
    "        \n",
    "        self._display_surf.blit(self._image_result, (0,0)) \n",
    "        \n",
    "        pygame.display.flip()\n",
    "        self.__time__ += 1\n",
    "#         if self.__time__ > __fieldWidth__:\n",
    "#             self._running = False\n",
    "        \n",
    " \n",
    "    def on_cleanup(self):\n",
    "        pygame.quit()\n",
    " \n",
    "    def on_execute(self):\n",
    "        if self.on_init() == False:\n",
    "            self._running = False\n",
    " \n",
    "        while( self._running ):\n",
    "            pygame.event.pump()\n",
    "            keys = pygame.key.get_pressed() \n",
    "            if (keys[K_ESCAPE]):\n",
    "                self._running = False\n",
    "            self.on_loop()\n",
    "            self.on_render()\n",
    "            time.sleep (20.0 / 1000.0);\n",
    "        self.on_cleanup()"
   ]
  },
  {
   "cell_type": "code",
   "execution_count": 6,
   "metadata": {},
   "outputs": [],
   "source": [
    "if __name__ == \"__main__\" :\n",
    "    __fieldWidth__ = 1803\n",
    "    __fieldHeight__ = 1038\n",
    "    __headerHeight__ = 100\n",
    "    rnd_list = []\n",
    "    \n",
    "    __population__ = 500\n",
    "    __STEP__ = 16\n",
    "    __LATENCE__ = 280\n",
    "    __STAY_HOME__ = 60 # integer, percentage of people who stays at home\n",
    "    \n",
    "    theApp = App(__population__)\n",
    "    theApp.on_execute()"
   ]
  },
  {
   "cell_type": "markdown",
   "metadata": {},
   "source": [
    "## Budapest  \n",
    "- területe: 3337 km^2\n",
    "- lakossága: 1 752 286 fő\n",
    "egy adatpont 8x8 = 64 pixel (1m^2)  \n",
    "össz terület = 1470x700 = 1 029 000 pixel  \n",
    "population = 0.9 x 1752286 x 1029000 / 3 337 000 000 = 540"
   ]
  },
  {
   "cell_type": "code",
   "execution_count": 3,
   "metadata": {},
   "outputs": [],
   "source": [
    "import numpy\n",
    "import seaborn as sns"
   ]
  },
  {
   "cell_type": "code",
   "execution_count": 8,
   "metadata": {},
   "outputs": [
    {
     "data": {
      "image/png": "[encoded data removed]",
      "text/plain": [
       "<Figure size 432x288 with 1 Axes>"
      ]
     },
     "metadata": {
      "needs_background": "light"
     },
     "output_type": "display_data"
    }
   ],
   "source": [
    "array = [numpy.random.choice(numpy.arange(1, 7), p=[0.1, 0.05, 0.05, 0.2, 0.4, 0.2]) for i in range(1,500)]\n",
    "sns.distplot(array);"
   ]
  },
  {
   "cell_type": "markdown",
   "metadata": {},
   "source": [
    "Link to my copy of age distribution in Hungary: \n",
    "[link](https://onedrive.live.com/edit.aspx?cid=2260bfd62cbf6cee&page=view&resid=2260BFD62CBF6CEE!613&parId=2260BFD62CBF6CEE!103&app=Excel)"
   ]
  },
  {
   "cell_type": "code",
   "execution_count": null,
   "metadata": {},
   "outputs": [],
   "source": []
  }
 ],
 "metadata": {
  "kernelspec": {
   "display_name": "Python 3",
   "language": "python",
   "name": "python3"
  },
  "language_info": {
   "codemirror_mode": {
    "name": "ipython",
    "version": 3
   },
   "file_extension": ".py",
   "mimetype": "text/x-python",
   "name": "python",
   "nbconvert_exporter": "python",
   "pygments_lexer": "ipython3",
   "version": "3.7.7"
  }
 },
 "nbformat": 4,
 "nbformat_minor": 4
}
